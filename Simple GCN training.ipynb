{
 "cells": [
  {
   "cell_type": "markdown",
   "metadata": {},
   "source": [
    "# MARA - IMDB_mlh dataset tests - by Bartosz Trojan\n",
    "The implementation will be based on the official MARA paper\n",
    "Right now I don't have much to show, but this notebook will be updated"
   ]
  },
  {
   "cell_type": "markdown",
   "metadata": {},
   "source": [
    "## Imports and data preprocessing"
   ]
  },
  {
   "cell_type": "code",
   "execution_count": 1,
   "metadata": {
    "colab": {
     "base_uri": "https://localhost:8080/"
    },
    "id": "zF5bw3m9UrMy",
    "outputId": "c9d66c9b-16c8-4b53-9e39-ec9f4530ed22"
   },
   "outputs": [],
   "source": [
    "# os.environ['TORCH'] = torch.__version__\n",
    "# print(torch.__version__)\n",
    "\n",
    "# !pip install -q torch-scatter -f https://data.pyg.org/whl/torch-${TORCH}.html\n",
    "# !pip install -q torch-sparse -f https://data.pyg.org/whl/torch-${TORCH}.html\n",
    "# !pip install -q git+https://github.com/pyg-team/pytorch_geometric.git"
   ]
  },
  {
   "cell_type": "code",
   "execution_count": 2,
   "metadata": {},
   "outputs": [
    {
     "name": "stderr",
     "output_type": "stream",
     "text": [
      "/home/lewy700/Documents/MARA/.venv/lib/python3.12/site-packages/tqdm/auto.py:21: TqdmWarning: IProgress not found. Please update jupyter and ipywidgets. See https://ipywidgets.readthedocs.io/en/stable/user_install.html\n",
      "  from .autonotebook import tqdm as notebook_tqdm\n"
     ]
    },
    {
     "name": "stdout",
     "output_type": "stream",
     "text": [
      "IMDB movie type dataset:\n",
      " Number of nodes: 5614\n",
      " Number of edges: 14715\n",
      " Number of edges: layer1: 5443, layer2: 3658, cross_layer: 5614\n",
      " Number of features: 1000\n",
      " Number of classes: 3\n",
      " Number of nodes per class: tensor([ 640, 2438, 2536])\n"
     ]
    }
   ],
   "source": [
    "import os\n",
    "import torch\n",
    "import torch.nn as nn\n",
    "from torch_geometric.nn import GCNConv\n",
    "from utils.read_data_new import IMDB_mlh\n",
    "from config import config\n",
    "\n",
    "imdb = IMDB_mlh()\n",
    "imdb.info()"
   ]
  },
  {
   "cell_type": "markdown",
   "metadata": {},
   "source": [
    "## Model architecture"
   ]
  },
  {
   "cell_type": "code",
   "execution_count": 3,
   "metadata": {},
   "outputs": [],
   "source": [
    "class DropEdge(nn.Module):\n",
    "    def __init__(self, simplification_type=\"l-b-l\", p=0.2):\n",
    "        super().__init__()\n",
    "        self.simplification_type = simplification_type\n",
    "        self.p = p\n",
    "\n",
    "    def forward(self, edges, layers_lengths):\n",
    "        if(self.simplification_type == \"l-b-l\"):\n",
    "            intra_layers_length = torch.sum(layers_lengths[:-1])\n",
    "            intra_mask = torch.rand(intra_layers_length) > self.p\n",
    "\n",
    "            intra_layers = edges[:,:intra_layers_length]\n",
    "            edges = torch.cat([intra_layers[:,intra_mask], edges[:,intra_layers_length:]], dim=1)\n",
    "\n",
    "            new_layers_lenghts = []\n",
    "            temp = 0\n",
    "            for i in range(len(layers_lengths)-1):\n",
    "                new_layers_lenghts.append(torch.sum(intra_mask[temp:temp + layers_lengths[i]]))\n",
    "                temp += layers_lengths[i]\n",
    "            new_layers_lenghts.append(layers_lengths[-1])\n",
    "\n",
    "            return edges, torch.tensor(new_layers_lenghts)\n",
    "        \n",
    "        if(self.simplification_type == \"multilayer\"):\n",
    "            mask = torch.rand(edges.shape[1]) > self.p\n",
    "            edges = edges[:, mask]\n",
    "\n",
    "            new_layers_lenghts = []\n",
    "            temp = 0\n",
    "            for i in range(len(layers_lengths)):\n",
    "                new_layers_lenghts.append(torch.sum(mask[temp:temp + layers_lengths[i]]))\n",
    "                temp += layers_lengths[i]\n",
    "\n",
    "            return edges, torch.tensor(new_layers_lenghts)"
   ]
  },
  {
   "cell_type": "code",
   "execution_count": 4,
   "metadata": {
    "colab": {
     "base_uri": "https://localhost:8080/"
    },
    "id": "AkQAVluLuxT_",
    "outputId": "fec9f0d9-8c17-46e0-a2fa-92c75203c180"
   },
   "outputs": [
    {
     "name": "stdout",
     "output_type": "stream",
     "text": [
      "MARA(\n",
      "  (conv1): GCNConv(1000, 512)\n",
      "  (conv2): GCNConv(512, 256)\n",
      "  (conv3): GCNConv(256, 52)\n",
      "  (classifier): Linear(in_features=52, out_features=3, bias=True)\n",
      "  (dropedge): DropEdge()\n",
      ")\n"
     ]
    }
   ],
   "source": [
    "# Dlaczego oni nie wspominają o żadnych funkcjach aktywacji w MARZE???\n",
    "\n",
    "class MARA(nn.Module):\n",
    "    def __init__(self, simplificaton_type=config[\"simplification_type\"], simplification_stages=config[\"simplification_stages\"], simplification_strategy=config[\"simplification_strategy\"], DE_p=config[\"DE_p\"], NS_k=config[\"NS_k\"]):\n",
    "        super().__init__()\n",
    "        torch.manual_seed(1234)\n",
    "        \n",
    "        self.simplification_type = simplificaton_type\n",
    "        self.simplification_stages = simplification_stages\n",
    "        self.simplification_strategy = simplification_strategy\n",
    "        self.DE_p = DE_p\n",
    "        self.NS_k = NS_k\n",
    "        \n",
    "        self.conv1 = GCNConv(imdb.get_number_of_features(), 512)\n",
    "        self.conv2 = GCNConv(512, 256)\n",
    "        self.conv3 = GCNConv(256, 52)\n",
    "        self.classifier = nn.Linear(52, imdb.get_number_of_classes())\n",
    "\n",
    "        self.dropedge = DropEdge(self.simplification_type, self.DE_p)\n",
    "\n",
    "    def forward(self, x, edges, layers_lengths):\n",
    "        if self.simplification_stages == \"once\":\n",
    "            edges, layers_lengths = self.dropedge(edges, layers_lengths)\n",
    "            h = self.conv1(x, edges)\n",
    "            h = h.tanh()\n",
    "            h = self.conv2(h, edges)\n",
    "            h = h.tanh()\n",
    "            h = self.conv3(h, edges)\n",
    "            h = h.tanh()\n",
    "\n",
    "        if self.simplification_stages == \"each\":\n",
    "            edges, layers_lengths = self.dropedge(edges, layers_lengths)\n",
    "            h = self.conv1(x, edges)\n",
    "            h = h.tanh()\n",
    "            edges, layers_lengths = self.dropedge(edges, layers_lengths)\n",
    "            h = self.conv2(h, edges)\n",
    "            h = h.tanh()\n",
    "            edges, layers_lengths = self.dropedge(edges, layers_lengths)\n",
    "            h = self.conv3(h, edges)\n",
    "            h = h.tanh()\n",
    "\n",
    "        out = torch.sigmoid(self.classifier(h))\n",
    "\n",
    "        return out, h\n",
    "\n",
    "model = MARA()\n",
    "print(model)"
   ]
  },
  {
   "cell_type": "markdown",
   "metadata": {},
   "source": [
    "## Simple model training"
   ]
  },
  {
   "cell_type": "code",
   "execution_count": 5,
   "metadata": {
    "colab": {
     "base_uri": "https://localhost:8080/",
     "height": 433
    },
    "id": "nwHtX5siwe2v",
    "outputId": "f784ae4a-9cac-4380-cf61-de02029f3117"
   },
   "outputs": [
    {
     "name": "stdout",
     "output_type": "stream",
     "text": [
      "torch.Size([5614, 3])\n",
      "torch.Size([5614, 52])\n",
      "tensor(1404) tensor(1476) tensor(2734)\n",
      "torch.Size([5614]) torch.Size([5614]) torch.Size([5614])\n",
      "tensor(1404) tensor(1476) tensor(2734)\n",
      "tensor(702) tensor(738) tensor(1367)\n"
     ]
    }
   ],
   "source": [
    "model = MARA(simplification_stages=\"each\", simplification_strategy=\"l-b-l\", DE_p=0.2)\n",
    "\n",
    "out, h = model(imdb.node_features, torch.cat([imdb.layer_1, imdb.layer_2, imdb.cross_edges], dim=0).t(), torch.tensor([imdb.layer_1.shape[0], imdb.layer_2.shape[0], imdb.cross_edges.shape[0]]))\n",
    "\n",
    "print(out.shape)\n",
    "print(h.shape)\n",
    "\n",
    "# replace mask with masks\n",
    "\n",
    "# test masks for sure\n",
    "tr, val, test = imdb.get_training_mask()\n",
    "\n",
    "print(torch.sum(tr), torch.sum(val), torch.sum(test))\n",
    "print(torch.sum(tr[:2807]), torch.sum(val[:2807]), torch.sum(test[:2807]))"
   ]
  },
  {
   "cell_type": "code",
   "execution_count": 6,
   "metadata": {},
   "outputs": [],
   "source": [
    "# class DropEdge(torch.autograd.Function):\n",
    "#     def __init__(self, simplification_type=\"l-b-l\", p=0.2):\n",
    "#         self.simplification_type = simplification_type\n",
    "#         self.p = p\n",
    "        \n",
    "#     @staticmethod\n",
    "#     def forward(ctx, intra_edges, cross_edges):\n",
    "#         if(ctx.simplification_type == \"l-b-l\"):\n",
    "#             mask = torch.rand(intra_edges.shape) > ctx.p\n",
    "#             ctx.save_for_backward(mask)\n",
    "\n",
    "#             return intra_edges[mask], cross_edges\n",
    "        \n",
    "#         if(ctx.simplification_type == \"multilayer\"):\n",
    "#             intra_mask = torch.rand(intra_edges.shape) > ctx.p\n",
    "#             cross_mask = torch.rand(cross_edges.shape) > ctx.p\n",
    "#             ctx.save_for_backward(intra_mask, cross_mask)\n",
    "\n",
    "#             return intra_edges[intra_mask], cross_edges[cross_mask]\n",
    "\n",
    "#     @staticmethod\n",
    "#     def backward(ctx, grad_output):\n",
    "#         if(ctx.simplification_type == \"l-b-l\"):\n",
    "#             mask = ctx.saved_tensors\n",
    "            \n",
    "#             return intra_edges[mask], cross_edges\n",
    "        \n",
    "#         if(ctx.simplification_type == \"multilayer\"):\n",
    "#             intra_mask = torch.rand(intra_edges.shape) > ctx.p\n",
    "#             cross_mask = torch.rand(cross_edges.shape) > ctx.p\n",
    "#             ctx.save_for_backward(intra_mask, cross_mask)\n",
    "\n",
    "#             return intra_edges[intra_mask], cross_edges[cross_mask]\n",
    "\n",
    "#         A = grad_output * D\n",
    "#         return A / (1-p)"
   ]
  },
  {
   "cell_type": "code",
   "execution_count": 7,
   "metadata": {
    "colab": {
     "base_uri": "https://localhost:8080/",
     "height": 430
    },
    "id": "etxOsz8QIbMO",
    "outputId": "466bf583-72a0-435a-9664-5d2cd6e35b0e"
   },
   "outputs": [
    {
     "name": "stdout",
     "output_type": "stream",
     "text": [
      "tensor(1388) tensor(1432) tensor(2794)\n",
      "torch.Size([5614]) torch.Size([5614]) torch.Size([5614])\n",
      "training mask: 1388/5614\n",
      "========  10  ========\n",
      "Loss: 0.960023820400238\n",
      "Train score: 0.8436806187892291\n",
      "Validation score: 0.7629147224282864\n",
      "========  20  ========\n",
      "Loss: 0.7889314293861389\n",
      "Train score: 0.9465964524266761\n",
      "Validation score: 0.8568665208853079\n",
      "========  30  ========\n",
      "Loss: 0.6831302046775818\n",
      "Train score: 0.979132040015401\n",
      "Validation score: 0.8460676347068109\n",
      "========  40  ========\n",
      "Loss: 0.6378819346427917\n",
      "Train score: 0.9886422868568793\n",
      "Validation score: 0.843888610035633\n",
      "========  50  ========\n",
      "Loss: 0.6182332038879395\n",
      "Train score: 0.9928461944315332\n",
      "Validation score: 0.8320209306254865\n",
      "========  60  ========\n",
      "Loss: 0.6064658164978027\n",
      "Train score: 0.9954547047876137\n",
      "Validation score: 0.8232611535181936\n",
      "========  70  ========\n",
      "Loss: 0.595008909702301\n",
      "Train score: 0.9984654108519733\n",
      "Validation score: 0.827028373149666\n",
      "========  80  ========\n",
      "Loss: 0.586950421333313\n",
      "Train score: 0.9974835522716763\n",
      "Validation score: 0.8211661171474764\n",
      "========  90  ========\n",
      "Loss: 0.5847558379173279\n",
      "Train score: 0.9981938231227209\n",
      "Validation score: 0.817164531703282\n",
      "========  100  ========\n",
      "Loss: 0.5844200253486633\n",
      "Train score: 0.9985858916427125\n",
      "Validation score: 0.81586313416966\n",
      "========  110  ========\n",
      "Loss: 0.5861539244651794\n",
      "Train score: 0.9975380479375561\n",
      "Validation score: 0.8146546478092582\n",
      "========  120  ========\n",
      "Loss: 0.579618513584137\n",
      "Train score: 0.9982118691921172\n",
      "Validation score: 0.8158694024273182\n",
      "========  130  ========\n",
      "Loss: 0.5786293148994446\n",
      "Train score: 0.9983613915837136\n",
      "Validation score: 0.8175581708412415\n",
      "========  140  ========\n",
      "Loss: 0.5771322846412659\n",
      "Train score: 0.9987215181207145\n",
      "Validation score: 0.8256572878322839\n",
      "========  150  ========\n",
      "Loss: 0.5753375887870789\n",
      "Train score: 0.9989785941232855\n",
      "Validation score: 0.8217683850549395\n",
      "========  160  ========\n",
      "Loss: 0.5741593241691589\n",
      "Train score: 0.9992343290976433\n",
      "Validation score: 0.820111540357941\n",
      "========  170  ========\n",
      "Loss: 0.5731503963470459\n",
      "Train score: 0.9991772922049927\n",
      "Validation score: 0.819107809671649\n",
      "========  180  ========\n",
      "Loss: 0.5724856853485107\n",
      "Train score: 0.998722383996712\n",
      "Validation score: 0.8192963529795043\n",
      "========  190  ========\n",
      "Loss: 0.573218047618866\n",
      "Train score: 0.9996534153660425\n",
      "Validation score: 0.8159608815354532\n",
      "========  200  ========\n",
      "Loss: 0.571545422077179\n",
      "Train score: 0.9991757980576829\n",
      "Validation score: 0.8252761762911316\n",
      "Final score:\n",
      "test_set: 0.8257223251790645 - (whole dataset: 0.8813533172943587)\n"
     ]
    }
   ],
   "source": [
    "from sklearn.metrics import roc_auc_score\n",
    "\n",
    "model = MARA()\n",
    "criterion = torch.nn.CrossEntropyLoss() \n",
    "optimizer = torch.optim.Adam(model.parameters(), lr=0.002, weight_decay=0.0005) \n",
    "\n",
    "def accuracy(preds, labels):\n",
    "    predicted_labels = torch.argmax(preds, dim=1)\n",
    "    accuracy = (predicted_labels == labels).float().mean()\n",
    "\n",
    "    return accuracy\n",
    "\n",
    "def roc_auc(preds, labels):\n",
    "    return roc_auc_score(labels.detach(), torch.softmax(preds.detach(), 1), multi_class='ovr')\n",
    "\n",
    "train_mask, val_mask, test_mask = imdb.get_training_mask(train_mask_size=0.25, val_mask_size=0.25)\n",
    "print(f\"training mask: {torch.sum(train_mask)}/{imdb.get_number_of_nodes()}\")\n",
    "\n",
    "def train(data):\n",
    "    optimizer.zero_grad()\n",
    "    edges = torch.cat([data.layer_1, data.layer_2, data.cross_edges], dim=0).t()\n",
    "    layers_lengths = torch.tensor([data.layer_1.shape[0], data.layer_2.shape[0], data.cross_edges.shape[0]], dtype=torch.int64)\n",
    "    out, h = model(data.node_features, edges, layers_lengths) \n",
    "\n",
    "    test_acc = roc_auc(out[val_mask], imdb.classes[val_mask])\n",
    "\n",
    "    loss = criterion(out[train_mask], data.classes[train_mask])\n",
    "    acc = roc_auc(out[train_mask], data.classes[train_mask])\n",
    "\n",
    "    loss.backward()\n",
    "    optimizer.step()\n",
    "\n",
    "    return loss, acc, test_acc\n",
    "\n",
    "for epoch in range(201):\n",
    "    loss, acc, test_acc = train(imdb)\n",
    "    if (epoch+1)%10 == 0:\n",
    "        print(\"======== \",epoch+1,\" ========\")\n",
    "        print(f\"Loss: {loss}\")\n",
    "        print(f\"Train score: {acc}\")\n",
    "        print(f\"Validation score: {test_acc}\")\n",
    "data = imdb\n",
    "edges = torch.cat([data.layer_1, data.layer_2, data.cross_edges], dim=0).t()\n",
    "layers_lengths = torch.tensor([data.layer_1.shape[0], data.layer_2.shape[0], data.cross_edges.shape[0]], dtype=torch.int64)\n",
    "out, h = model(data.node_features, edges, layers_lengths) \n",
    "\n",
    "print(f\"Final score:\\ntest_set: {roc_auc(out[test_mask], data.classes[test_mask])} - (whole dataset: {roc_auc(out, data.classes)})\")"
   ]
  }
 ],
 "metadata": {
  "colab": {
   "provenance": []
  },
  "kernelspec": {
   "display_name": ".venv",
   "language": "python",
   "name": "python3"
  },
  "language_info": {
   "codemirror_mode": {
    "name": "ipython",
    "version": 3
   },
   "file_extension": ".py",
   "mimetype": "text/x-python",
   "name": "python",
   "nbconvert_exporter": "python",
   "pygments_lexer": "ipython3",
   "version": "3.12.3"
  }
 },
 "nbformat": 4,
 "nbformat_minor": 0
}
