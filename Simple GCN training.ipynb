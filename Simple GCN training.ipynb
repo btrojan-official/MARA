{
 "cells": [
  {
   "cell_type": "markdown",
   "metadata": {},
   "source": [
    "# MARA - IMDB_mlh dataset tests - by Bartosz Trojan\n",
    "The implementation will be based on the official MARA paper\n",
    "Right now I don't have much to show, but this notebook will be updated"
   ]
  },
  {
   "cell_type": "markdown",
   "metadata": {},
   "source": [
    "## Imports and data preprocessing"
   ]
  },
  {
   "cell_type": "code",
   "execution_count": 1,
   "metadata": {
    "colab": {
     "base_uri": "https://localhost:8080/"
    },
    "id": "zF5bw3m9UrMy",
    "outputId": "c9d66c9b-16c8-4b53-9e39-ec9f4530ed22"
   },
   "outputs": [],
   "source": [
    "# os.environ['TORCH'] = torch.__version__\n",
    "# print(torch.__version__)\n",
    "\n",
    "# !pip install -q torch-scatter -f https://data.pyg.org/whl/torch-${TORCH}.html\n",
    "# !pip install -q torch-sparse -f https://data.pyg.org/whl/torch-${TORCH}.html\n",
    "# !pip install -q git+https://github.com/pyg-team/pytorch_geometric.git"
   ]
  },
  {
   "cell_type": "code",
   "execution_count": null,
   "metadata": {},
   "outputs": [
    {
     "name": "stdout",
     "output_type": "stream",
     "text": [
      "IMDB movie type dataset:\n",
      " Number of nodes: 2807\n",
      " Number of edges: layer1: 752, layer2: 2276\n",
      " Number of features: 1000\n",
      " Number of classes: 3\n",
      " Number of nodes per class: tensor([ 320, 1219, 1268])\n"
     ]
    }
   ],
   "source": [
    "import os\n",
    "import torch\n",
    "from torch.nn import Linear\n",
    "from torch_geometric.nn import GCNConv\n",
    "from utils.read_data_new import IMDB_mlh\n",
    "\n",
    "imdb = IMDB_mlh()\n",
    "imdb.info()"
   ]
  },
  {
   "cell_type": "markdown",
   "metadata": {},
   "source": [
    "## Model architecture"
   ]
  },
  {
   "cell_type": "code",
   "execution_count": null,
   "metadata": {
    "colab": {
     "base_uri": "https://localhost:8080/"
    },
    "id": "AkQAVluLuxT_",
    "outputId": "fec9f0d9-8c17-46e0-a2fa-92c75203c180"
   },
   "outputs": [
    {
     "name": "stdout",
     "output_type": "stream",
     "text": [
      "GCN(\n",
      "  (conv1): GCNConv(1000, 512)\n",
      "  (conv2): GCNConv(512, 256)\n",
      "  (conv3): GCNConv(256, 52)\n",
      "  (classifier): Linear(in_features=52, out_features=3, bias=True)\n",
      ")\n"
     ]
    }
   ],
   "source": [
    "class GCN(torch.nn.Module):\n",
    "    def __init__(self):\n",
    "        super().__init__()\n",
    "        torch.manual_seed(1234)\n",
    "        self.conv1 = GCNConv(imdb.num_features, 512)\n",
    "        self.conv2 = GCNConv(512, 256)\n",
    "        self.conv3 = GCNConv(256, 52)\n",
    "        self.classifier = Linear(52, imdb.num_classes)\n",
    "\n",
    "    def forward(self, x, edge_index):\n",
    "        h = self.conv1(x, edge_index)\n",
    "        h = h.tanh()\n",
    "        h = self.conv2(h, edge_index)\n",
    "        h = h.tanh()\n",
    "        h = self.conv3(h, edge_index)\n",
    "        h = h.tanh()  # Final GNN embedding space.\n",
    "\n",
    "        # Apply a final (linear) classifier.\n",
    "        out = torch.sigmoid(self.classifier(h))\n",
    "\n",
    "        return out, h\n",
    "\n",
    "model = GCN()\n",
    "print(model)"
   ]
  },
  {
   "cell_type": "markdown",
   "metadata": {},
   "source": [
    "## Simple model training"
   ]
  },
  {
   "cell_type": "code",
   "execution_count": null,
   "metadata": {
    "colab": {
     "base_uri": "https://localhost:8080/",
     "height": 433
    },
    "id": "nwHtX5siwe2v",
    "outputId": "f784ae4a-9cac-4380-cf61-de02029f3117"
   },
   "outputs": [
    {
     "name": "stdout",
     "output_type": "stream",
     "text": [
      "torch.Size([2807, 3])\n",
      "torch.Size([2807, 52])\n"
     ]
    }
   ],
   "source": [
    "model = GCN()\n",
    "\n",
    "out, h = model(imdb.node_features, imdb.layer_1.t())\n",
    "\n",
    "print(out.shape)\n",
    "print(h.shape)"
   ]
  },
  {
   "cell_type": "code",
   "execution_count": null,
   "metadata": {},
   "outputs": [],
   "source": [
    "# tymczasowo dla przyśpieszenia testów\n",
    "\n",
    "from config import config\n",
    "import torch\n",
    "\n",
    "class MARA():\n",
    "    def __init__(self, simplificaton_type=config[\"simplification_type\"], simplification_stages=config[\"simplification_stages\"], simplification_strategy=config[\"simplification_strategy\"], DE_p=config[\"DE_p\"], NS_k=config[\"NS_k\"]):\n",
    "        self.simplification_type = simplificaton_type\n",
    "        self.simplification_stages = simplification_stages\n",
    "        self.simplification_strategy = simplification_strategy\n",
    "        self.DE_p = DE_p\n",
    "        self.NS_k = NS_k\n",
    "\n",
    "    def simplify(self, nodes_for_each_layer, edges_for_each_layer, cross_layer_edges, node_classes):\n",
    "        if(self.simplification_strategy == \"DE\"):\n",
    "            if(self.simplification_type == \"l-b-l\"):\n",
    "                simplified = []\n",
    "                for layer in range(len(edges_for_each_layer)):\n",
    "                    print(edges_for_each_layer[layer].shape)\n",
    "                    mask = torch.rand(1, edges_for_each_layer[layer].shape[0]) > self.DE_p\n",
    "                    simplified.append(edges_for_each_layer[layer][mask.squeeze()].clone())\n",
    "                    print(simplified[layer].shape)\n",
    "                return simplified\n"
   ]
  },
  {
   "cell_type": "code",
   "execution_count": null,
   "metadata": {},
   "outputs": [
    {
     "name": "stdout",
     "output_type": "stream",
     "text": [
      "torch.Size([752, 2])\n",
      "torch.Size([609, 2])\n",
      "torch.Size([2276, 2])\n",
      "torch.Size([1811, 2])\n"
     ]
    }
   ],
   "source": [
    "mara = MARA()\n",
    "\n",
    "siplified_edges = mara.simplify(imdb.node_features, [imdb.layer_1, imdb.layer_2], [], imdb.classes)"
   ]
  },
  {
   "cell_type": "code",
   "execution_count": null,
   "metadata": {
    "colab": {
     "base_uri": "https://localhost:8080/",
     "height": 430
    },
    "id": "etxOsz8QIbMO",
    "outputId": "466bf583-72a0-435a-9664-5d2cd6e35b0e"
   },
   "outputs": [
    {
     "name": "stdout",
     "output_type": "stream",
     "text": [
      "========  10  ========\n",
      "Loss: 0.7814971804618835\n",
      "Accuracy: 0.783345103263855\n",
      "========  20  ========\n",
      "Loss: 0.7094255089759827\n",
      "Accuracy: 0.8564493656158447\n",
      "========  30  ========\n",
      "Loss: 0.6735900044441223\n",
      "Accuracy: 0.8836413621902466\n",
      "========  40  ========\n",
      "Loss: 0.665148913860321\n",
      "Accuracy: 0.9021126627922058\n",
      "========  50  ========\n",
      "Loss: 0.6645676493644714\n",
      "Accuracy: 0.8951048851013184\n",
      "========  60  ========\n",
      "Loss: 0.6600362658500671\n",
      "Accuracy: 0.8955672383308411\n",
      "========  70  ========\n",
      "Loss: 0.6429871320724487\n",
      "Accuracy: 0.9092229604721069\n",
      "========  80  ========\n",
      "Loss: 0.650898277759552\n",
      "Accuracy: 0.9011064767837524\n",
      "========  90  ========\n",
      "Loss: 0.6468911170959473\n",
      "Accuracy: 0.9045910835266113\n",
      "========  100  ========\n",
      "Loss: 0.6388868093490601\n",
      "Accuracy: 0.9132047295570374\n",
      "========  110  ========\n",
      "Loss: 0.6359266638755798\n",
      "Accuracy: 0.9148044586181641\n",
      "========  120  ========\n",
      "Loss: 0.6373798847198486\n",
      "Accuracy: 0.9122301936149597\n",
      "========  130  ========\n",
      "Loss: 0.6442964673042297\n",
      "Accuracy: 0.9060734510421753\n",
      "========  140  ========\n",
      "Loss: 0.6262832283973694\n",
      "Accuracy: 0.9236860871315002\n",
      "========  150  ========\n",
      "Loss: 0.6194504499435425\n",
      "Accuracy: 0.9311568737030029\n",
      "========  160  ========\n",
      "Loss: 0.6366981267929077\n",
      "Accuracy: 0.913165271282196\n",
      "========  170  ========\n",
      "Loss: 0.6318746209144592\n",
      "Accuracy: 0.9183955788612366\n",
      "========  180  ========\n",
      "Loss: 0.6418827772140503\n",
      "Accuracy: 0.9066374897956848\n",
      "========  190  ========\n",
      "Loss: 0.634825587272644\n",
      "Accuracy: 0.916208803653717\n",
      "========  200  ========\n",
      "Loss: 0.6370644569396973\n",
      "Accuracy: 0.9129824638366699\n"
     ]
    }
   ],
   "source": [
    "model = GCN()\n",
    "criterion = torch.nn.CrossEntropyLoss() \n",
    "optimizer = torch.optim.Adam(model.parameters(), lr=0.01) \n",
    "\n",
    "def accuracy(preds, labels):\n",
    "    predicted_labels = torch.argmax(preds, dim=1)\n",
    "    accuracy = (predicted_labels == labels).float().mean()\n",
    "\n",
    "    return accuracy\n",
    "\n",
    "def train(data):\n",
    "    optimizer.zero_grad()\n",
    "    out, h = model(data.node_features, data.layer_1.t()) \n",
    "    train_mask = data.get_training_mask(mask_size=0.5)\n",
    "\n",
    "    loss = criterion(out[train_mask], data.classes[train_mask])\n",
    "    acc = accuracy(out[train_mask], data.classes[train_mask])\n",
    "\n",
    "    loss.backward()\n",
    "    optimizer.step()\n",
    "\n",
    "    return loss, acc\n",
    "\n",
    "for epoch in range(201):\n",
    "    loss, acc = train(imdb)\n",
    "    if (epoch+1)%10 == 0:\n",
    "        print(\"======== \",epoch+1,\" ========\")\n",
    "        print(f\"Loss: {loss}\")\n",
    "        print(f\"Accuracy: {acc}\")"
   ]
  }
 ],
 "metadata": {
  "colab": {
   "provenance": []
  },
  "kernelspec": {
   "display_name": ".venv",
   "language": "python",
   "name": "python3"
  },
  "language_info": {
   "codemirror_mode": {
    "name": "ipython",
    "version": 3
   },
   "file_extension": ".py",
   "mimetype": "text/x-python",
   "name": "python",
   "nbconvert_exporter": "python",
   "pygments_lexer": "ipython3",
   "version": "3.12.3"
  }
 },
 "nbformat": 4,
 "nbformat_minor": 0
}
